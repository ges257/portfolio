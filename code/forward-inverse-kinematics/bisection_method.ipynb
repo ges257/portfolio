{
 "cells": [
  {
   "cell_type": "code",
   "execution_count": 17,
   "metadata": {},
   "outputs": [],
   "source": [
    "import numpy as np\n",
    "import math\n",
    "import matplotlib.pyplot as plt"
   ]
  },
  {
   "cell_type": "code",
   "execution_count": 18,
   "metadata": {},
   "outputs": [],
   "source": [
    "def bisection(f, a, b, TOL, *args):\n",
    "    if np.sign(f(a, *args)) * np.sign(f(b, *args)) > 0:\n",
    "        print('f(a)*f(b) < 0 not satisfied')\n",
    "        return None  # Stop execution if the sign condition is not met\n",
    "    n = 1\n",
    "    fa = f(a, *args)\n",
    "    fb = f(b, *args)\n",
    "    while np.abs(a - b) > TOL:\n",
    "        c = (a + b) / 2.0\n",
    "        fc = f(c, *args)\n",
    "        n += 1\n",
    "        if np.sign(fc) * np.sign(fa) < 0:\n",
    "            b = c\n",
    "            fb = fc\n",
    "        else:\n",
    "            a = c\n",
    "            fa = fc\n",
    "    c = (a + b) / 2.0\n",
    "    print('The final interval [', a, b, '] contains a root')\n",
    "    print('Approximate root', c, 'has been obtained in', n, 'steps')\n",
    "    return c"
   ]
  },
  {
   "cell_type": "code",
   "execution_count": 19,
   "metadata": {},
   "outputs": [],
   "source": [
    "# f_theta1 represents the equation:\n",
    "# (x - L1*cos(theta1))^2 + (y - L1*sin(theta1))^2 - L2^2 = 0\n",
    "def f_theta1(theta1, L1, L2, x, y):\n",
    "    return (x - L1 * math.cos(theta1))**2 + (y - L1 * math.sin(theta1))**2 - L2**2"
   ]
  },
  {
   "cell_type": "code",
   "execution_count": 20,
   "metadata": {},
   "outputs": [],
   "source": [
    "# defining the reachability function \n",
    "def is_reachable(L1, L2, x, y):\n",
    "    r = math.sqrt(x**2 + y**2)\n",
    "    return abs(L1 - L2) <= r <= (L1 + L2)\n"
   ]
  },
  {
   "cell_type": "code",
   "execution_count": 21,
   "metadata": {},
   "outputs": [],
   "source": [
    "# Define Parameters and Desired End-Effector Position\n",
    "L1 = 1.0  # Length of link 1\n",
    "L2 = 1.0  # Length of link 2\n",
    "x_des = 1.0  # Desired x-coordinate of the hand\n",
    "y_des = 1.0  # Desired y-coordinate of the hand\n",
    "TOL = 0.5e-4  # Tolerance for the bisection method"
   ]
  },
  {
   "cell_type": "code",
   "execution_count": 22,
   "metadata": {},
   "outputs": [
    {
     "name": "stdout",
     "output_type": "stream",
     "text": [
      "The final interval [ 1.5707963267948966 1.570844263694518 ] contains a root\n",
      "Approximate root 1.5708202952447072 has been obtained in 17 steps\n",
      "Computed theta1 = 1.5708202952447072 radians, 90.00137329101562 degrees\n"
     ]
    }
   ],
   "source": [
    "# Test the Reachability and, if reachable, Solve for theta1 using Bisection\n",
    "if not is_reachable(L1, L2, x_des, y_des):\n",
    "    print(\"The desired point (x, y) is outside the reachable workspace.\")\n",
    "else:\n",
    "    theta1_sol = bisection(f_theta1, 0, math.pi, TOL, L1, L2, x_des, y_des)\n",
    "    if theta1_sol is not None:\n",
    "        print(\"Computed theta1 =\", theta1_sol, \"radians,\", math.degrees(theta1_sol), \"degrees\")\n"
   ]
  },
  {
   "cell_type": "code",
   "execution_count": 27,
   "metadata": {},
   "outputs": [
    {
     "name": "stdout",
     "output_type": "stream",
     "text": [
      "Computed theta2 = -1.5708202949574708 radians, -90.00137327455819 degrees\n"
     ]
    }
   ],
   "source": [
    " # Compute theta2 from the computed theta1.\n",
    " # We use the rearranged equation:\n",
    " # x - L1*cos(theta1) = L2*cos(theta1+theta2)\n",
    " # y - L1*sin(theta1) = L2*sin(theta1+theta2)\n",
    " # Thus, the compound angle (theta1 + theta2) can be computed with atan2:\n",
    "theta_sum = math.atan2(y_des - L1 * math.sin(theta1_sol), x_des - L1 * math.cos(theta1_sol))\n",
    "theta2_sol = theta_sum - theta1_sol\n",
    "print(\"Computed theta2 =\", theta2_sol, \"radians,\", math.degrees(theta2_sol), \"degrees\")"
   ]
  },
  {
   "cell_type": "code",
   "execution_count": 31,
   "metadata": {},
   "outputs": [
    {
     "name": "stdout",
     "output_type": "stream",
     "text": [
      "Forward kinematics result: x = 0.9999760315501917 , y = 0.9999999999999931\n",
      "Desired position: x = 1.0 , y = 1.0\n"
     ]
    }
   ],
   "source": [
    " # Verification via Forward Kinematics\n",
    "def forward_kinematics(L1, L2, theta1, theta2):\n",
    "        x = L1 * math.cos(theta1) + L2 * math.cos(theta1 + theta2)\n",
    "        y = L1 * math.sin(theta1) + L2 * math.sin(theta1 + theta2)\n",
    "        return x, y     \n",
    "x_fk, y_fk = forward_kinematics(L1, L2, theta1_sol, theta2_sol)\n",
    "    print(\"Forward kinematics result: x =\", x_fk, \", y =\", y_fk)\n",
    "    print(\"Desired position: x =\", x_des, \", y =\", y_des)"
   ]
  }
 ],
 "metadata": {
  "kernelspec": {
   "display_name": "Python (svdproject)",
   "language": "python",
   "name": "svdproject"
  },
  "language_info": {
   "codemirror_mode": {
    "name": "ipython",
    "version": 3
   },
   "file_extension": ".py",
   "mimetype": "text/x-python",
   "name": "python",
   "nbconvert_exporter": "python",
   "pygments_lexer": "ipython3",
   "version": "3.12.7"
  }
 },
 "nbformat": 4,
 "nbformat_minor": 4
}
