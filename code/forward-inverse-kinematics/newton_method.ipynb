{
 "cells": [
  {
   "cell_type": "markdown",
   "metadata": {},
   "source": [
    "## Newton method"
   ]
  },
  {
   "cell_type": "code",
   "execution_count": 26,
   "metadata": {},
   "outputs": [],
   "source": [
    "import numpy as np\n",
    "import math\n",
    "import matplotlib.pyplot as plt"
   ]
  },
  {
   "cell_type": "code",
   "execution_count": 27,
   "metadata": {},
   "outputs": [],
   "source": [
    "def newton(f, Df, x0, TOL, N):\n",
    "    '''Approximate solution of f(x)=0 by Newton's method.\n",
    "    Input:\n",
    "      f : function, the function f(x)\n",
    "      Df: function, the derivative f'(x)\n",
    "      x0: initial guess  \n",
    "      TOL: stopping criteria (tolerance)\n",
    "      N: maximum number of iterations \n",
    "    '''\n",
    "    xn = x0\n",
    "    for n in range(0, N):\n",
    "        fxn = f(xn)\n",
    "        Dfxn = Df(xn)\n",
    "        if Dfxn == 0:\n",
    "            print('Zero derivative. No solution found.')\n",
    "            return None\n",
    "        xn = xn - fxn / Dfxn\n",
    "        if abs(fxn / Dfxn) < TOL:\n",
    "            print('Approximate solution', xn, 'after steps', n)\n",
    "            return xn\n",
    "    print('Exceeded maximum iterations. No solution found.')\n",
    "    return None\n"
   ]
  },
  {
   "cell_type": "code",
   "execution_count": 28,
   "metadata": {},
   "outputs": [],
   "source": [
    "def f_inv(theta1):\n",
    "    return (x_des - L1 * math.cos(theta1))**2 + (y_des - L1 * math.sin(theta1))**2 - L2**2"
   ]
  },
  {
   "cell_type": "code",
   "execution_count": 29,
   "metadata": {},
   "outputs": [],
   "source": [
    "def Df_inv(theta1):\n",
    "    return 2 * L1 * math.sin(theta1) * (x_des - L1 * math.cos(theta1)) - 2 * L1 * math.cos(theta1) * (y_des - L1 * math.sin(theta1))\n"
   ]
  },
  {
   "cell_type": "code",
   "execution_count": 30,
   "metadata": {},
   "outputs": [
    {
     "name": "stdout",
     "output_type": "stream",
     "text": [
      "Approximate solution 1.5707963267948968 after steps 3\n",
      "Newton's method result for theta1: 1.5707963267948968 radians, 90.00000000000001 degrees\n"
     ]
    }
   ],
   "source": [
    "# Manipulator parameters and desired position\n",
    "L1 = 1.0       # Length of link 1\n",
    "L2 = 1.0       # Length of link 2\n",
    "x_des = 1.0    # Desired x-coordinate\n",
    "y_des = 1.0    # Desired y-coordinate\n",
    "\n",
    "# Reachability test function\n",
    "def is_reachable(L1, L2, x, y):\n",
    "    r = math.sqrt(x**2 + y**2)\n",
    "    return (abs(L1 - L2) <= r <= (L1 + L2))\n",
    "# Test\n",
    "if not is_reachable(L1, L2, x_des, y_des):\n",
    "    print(\"The desired point (x, y) is outside the reachable workspace.\")\n",
    "else:\n",
    "    initial_guess = 1.57\n",
    "    theta1_newton = newton(f_inv, Df_inv, initial_guess, TOL, N)\n",
    "print(\"Newton's method result for theta1:\", theta1_newton, \"radians,\", math.degrees(theta1_newton), \"degrees\")\n"
   ]
  },
  {
   "cell_type": "code",
   "execution_count": 31,
   "metadata": {},
   "outputs": [
    {
     "name": "stdout",
     "output_type": "stream",
     "text": [
      "Computed theta2: -1.5707963267948968 radians, -90.00000000000001 degrees\n"
     ]
    }
   ],
   "source": [
    "theta_sum = math.atan2(y_des - L1 * math.sin(theta1_newton), x_des - L1 * math.cos(theta1_newton))\n",
    "theta2_newton = theta_sum - theta1_newton\n",
    "print(\"Computed theta2:\", theta2_newton, \"radians,\", math.degrees(theta2_newton), \"degrees\")\n"
   ]
  },
  {
   "cell_type": "code",
   "execution_count": 32,
   "metadata": {},
   "outputs": [
    {
     "name": "stdout",
     "output_type": "stream",
     "text": [
      "Forward kinematics result: x = 0.9999999999999999 , y = 1.0\n",
      "Desired position: x = 1.0 , y = 1.0\n"
     ]
    }
   ],
   "source": [
    "def forward_kinematics(L1, L2, theta1, theta2):\n",
    "    x = L1 * math.cos(theta1) + L2 * math.cos(theta1 + theta2)\n",
    "    y = L1 * math.sin(theta1) + L2 * math.sin(theta1 + theta2)\n",
    "    return x, y\n",
    "\n",
    "x_fk, y_fk = forward_kinematics(L1, L2, theta1_newton, theta2_newton)\n",
    "print(\"Forward kinematics result: x =\", x_fk, \", y =\", y_fk)\n",
    "print(\"Desired position: x =\", x_des, \", y =\", y_des)\n"
   ]
  }
 ],
 "metadata": {
  "kernelspec": {
   "display_name": "Python 3 (ipykernel)",
   "language": "python",
   "name": "python3"
  },
  "language_info": {
   "codemirror_mode": {
    "name": "ipython",
    "version": 3
   },
   "file_extension": ".py",
   "mimetype": "text/x-python",
   "name": "python",
   "nbconvert_exporter": "python",
   "pygments_lexer": "ipython3",
   "version": "3.12.2"
  }
 },
 "nbformat": 4,
 "nbformat_minor": 4
}
