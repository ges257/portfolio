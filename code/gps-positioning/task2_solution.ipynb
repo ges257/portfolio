{
 "cells": [
  {
   "cell_type": "code",
   "execution_count": 34,
   "id": "0a771f25-b2e5-4103-acf8-d6902ac02ca6",
   "metadata": {},
   "outputs": [],
   "source": [
    "###Solving Task Two od Project 2 ###\n",
    "import numpy as np\n",
    "import itertools\n",
    "\n",
    "def Newton_system(F, DF, x0, N, eps):\n",
    "    \"\"\"\n",
    "    Solve F(x) = 0 using Newton's method with a pseudo-inverse to handle singular \n",
    "    Jacobians that occurred when calculated not using a pseudo-inverse \n",
    "    \n",
    "    Inputs:\n",
    "      F: Function returning the residual vector F(x)\n",
    "      DF: Function returning the Jacobian matrix DF(x)\n",
    "      x0: Initial guess (vector)\n",
    "      N: Maximum number of iterations\n",
    "      eps: Convergence tolerance (stop when ||F(x)||_2 < eps)\n",
    "    \n",
    "    Output:\n",
    "      x: Approximate solution vector\n",
    "      steps: Number of steps taken (or -1 if convergence was not achieved)\n",
    "    \"\"\"\n",
    "    x = x0.copy()             \n",
    "    F_val = F(x)                \n",
    "    F_norm = np.linalg.norm(F_val, ord=2)  \n",
    "    steps = 0\n",
    "    while F_norm > eps and steps < N:\n",
    "        # Instead of using np.linalg.solve (which fails if the Jacobian is singular),\n",
    "        # we use the pseudo-inverse (np.linalg.pinv) to compute an update.\n",
    "        s = np.dot(np.linalg.pinv(DF(x)), F_val)\n",
    "        x = x - s               \n",
    "        F_val = F(x)             \n",
    "        F_norm = np.linalg.norm(F_val, ord=2)  \n",
    "        steps += 1\n",
    "    if F_norm > eps:\n",
    "        steps = -1  \n",
    "    return x, steps\n"
   ]
  },
  {
   "cell_type": "code",
   "execution_count": 35,
   "id": "416255c6-465a-4207-a47e-a729df20a102",
   "metadata": {},
   "outputs": [],
   "source": [
    "def satellite_positions_spherical(rho, phi, theta):\n",
    "    \"\"\"\n",
    "    Given spherical coordinates:\n",
    "      A = rho * cos(phi) * cos(theta)\n",
    "      B = rho * cos(phi) * sin(theta)\n",
    "      C = rho * sin(phi)\n",
    "    Returns (A, B, C) for a single satellite.\n",
    "    \"\"\"\n",
    "    A = rho * np.cos(phi) * np.cos(theta)\n",
    "    B = rho * np.cos(phi) * np.sin(theta)\n",
    "    C = rho * np.sin(phi)\n",
    "    return A, B, C\n",
    "\n",
    "# Parameters for satellite positions:\n",
    "rho = 26570  # km (given)\n",
    "# Choose phi values in [0, pi/2] (e.g., pi/6 for all to ensure they are in the upper hemisphere)\n",
    "phi_vals = np.array([np.pi/6, np.pi/6, np.pi/6, np.pi/6])\n",
    "# Choose theta values arbitrarily in [0, 2pi]: 0, pi/2, pi, 3pi/2.\n",
    "theta_vals = np.array([0, np.pi/2, np.pi, 3*np.pi/2])\n",
    "\n",
    "A = np.zeros(4)\n",
    "B = np.zeros(4)\n",
    "C = np.zeros(4)\n",
    "for i in range(4):\n",
    "    A[i], B[i], C[i] = satellite_positions_spherical(rho, phi_vals[i], theta_vals[i])\n"
   ]
  },
  {
   "cell_type": "code",
   "execution_count": 36,
   "id": "30f99798-a462-442d-961b-169cde67c6c9",
   "metadata": {},
   "outputs": [],
   "source": [
    "def F_GPS_params(x, A, B, C, t, c):\n",
    "    \"\"\"\n",
    "    Computes the residuals for the GPS system.\n",
    "    \n",
    "    For each satellite i:\n",
    "      F_i(x,y,z,d) = sqrt((x - A_i)^2 + (y - B_i)^2 + (z - C_i)^2) - c*(t_i - d)\n",
    "    \n",
    "    x: Vector [x, y, z, d]\n",
    "    A, B, C: Arrays of satellite positions\n",
    "    t: Array of travel times (can be baseline or perturbed)\n",
    "    c: Speed of light (km/s)\n",
    "    \n",
    "    Returns a 4-element vector of residuals.\n",
    "    \"\"\"\n",
    "    distances = np.sqrt((x[0] - A)**2 + (x[1] - B)**2 + (x[2] - C)**2)\n",
    "    return distances - c * (t - x[3])\n",
    "\n",
    "def DF_GPS_params(x, A, B, C, c):\n",
    "    \"\"\"\n",
    "    Computes the 4x4 Jacobian matrix for the GPS system.\n",
    "    \n",
    "    For each satellite i:\n",
    "      ∂F_i/∂x = (x - A_i)/r_i,\n",
    "      ∂F_i/∂y = (y - B_i)/r_i,\n",
    "      ∂F_i/∂z = (z - C_i)/r_i,\n",
    "      ∂F_i/∂d = c,\n",
    "    where r_i = sqrt((x-A_i)^2 + (x[1]-B_i)^2 + (x[2]-C_i)^2).\n",
    "    \"\"\"\n",
    "    J = np.zeros((4, 4))\n",
    "    for i in range(4):\n",
    "        r_i = np.sqrt((x[0] - A[i])**2 + (x[1] - B[i])**2 + (x[2] - C[i])**2)\n",
    "        J[i, 0] = (x[0] - A[i]) / r_i\n",
    "        J[i, 1] = (x[1] - B[i]) / r_i\n",
    "        J[i, 2] = (x[2] - C[i]) / r_i\n",
    "        J[i, 3] = c\n",
    "    return J"
   ]
  },
  {
   "cell_type": "code",
   "execution_count": 37,
   "id": "a5f6f471-cff0-4983-b885-e761b0a29a46",
   "metadata": {},
   "outputs": [],
   "source": [
    "# Baseline receiver: (x, y, z, d) = (0, 0, 6370, 0.0001)\n",
    "x_true = np.array([0.0, 0.0, 6370.0, 0.0001])\n",
    "c = 299792.458  # km/s\n",
    "\n",
    "# Compute the satellite range for each satellite:\n",
    "R = np.sqrt(A**2 + B**2 + (C - 6370)**2)\n",
    "# Compute baseline travel times: t = d + R/c\n",
    "t_baseline = x_true[3] + R/c\n"
   ]
  },
  {
   "cell_type": "code",
   "execution_count": 38,
   "id": "4006c4a6-4462-4ea3-9622-5b4968873371",
   "metadata": {},
   "outputs": [
    {
     "name": "stdout",
     "output_type": "stream",
     "text": [
      "Baseline solution: [0.00e+00 0.00e+00 6.37e+03 1.00e-04]\n",
      "Baseline residual: [0. 0. 0. 0.]\n"
     ]
    }
   ],
   "source": [
    "# Use the baseline as the initial guess.\n",
    "x0 = x_true.copy()\n",
    "\n",
    "solution_baseline, steps_baseline = Newton_system(\n",
    "    lambda x: F_GPS_params(x, A, B, C, t_baseline, c),\n",
    "    lambda x: DF_GPS_params(x, A, B, C, c),\n",
    "    x0, 100, 1e-4)  \n",
    "\n",
    "print(\"Baseline solution:\", solution_baseline)\n",
    "print(\"Baseline residual:\", F_GPS_params(solution_baseline, A, B, C, t_baseline, c))\n"
   ]
  },
  {
   "cell_type": "code",
   "execution_count": 39,
   "id": "20cf002b-1046-4d6f-9767-2fb029c343b7",
   "metadata": {},
   "outputs": [
    {
     "name": "stdout",
     "output_type": "stream",
     "text": [
      "Maximum position error (KM): 0.0031303716345498778\n",
      "Maximum position error (Meters): 3.1303716345498778\n",
      "Estimated condition number (error magnification factor): 1.0441795819125903\n"
     ]
    }
   ],
   "source": [
    "# We will perturb each travel time by ±10^-8 seconds.\n",
    "perturbations = [-1e-8, 1e-8]\n",
    "max_pos_error = 0\n",
    "max_error_magnification = 0\n",
    "\n",
    "# Loop over all 16 combinations of perturbations for the 4 satellites.\n",
    "for deltas in itertools.product(perturbations, repeat=4):\n",
    "    delta_t = np.array(deltas)\n",
    "    t_perturbed = t_baseline + delta_t\n",
    "    solution_perturbed, steps_perturbed = Newton_system(\n",
    "        lambda x: F_GPS_params(x, A, B, C, t_perturbed, c),\n",
    "        lambda x: DF_GPS_params(x, A, B, C, c),\n",
    "        x0, 100, 1e-4)\n",
    "    # Compute the forward error: difference in (x, y, z) compared to the baseline (x_true)\n",
    "    pos_error = np.linalg.norm(solution_perturbed[0:3] - x_true[0:3], ord=np.inf)\n",
    "    # Compute the input error: c * ||Δt||∞ (Δt in seconds, converted to distance)\n",
    "    input_error = c * np.linalg.norm(delta_t, ord=np.inf)\n",
    "    error_magnification = pos_error / input_error if input_error != 0 else 0\n",
    "    if pos_error > max_pos_error:\n",
    "        max_pos_error = pos_error\n",
    "    if error_magnification > max_error_magnification:\n",
    "        max_error_magnification = error_magnification\n",
    "\n",
    "print(\"Maximum position error (KM):\", max_pos_error)\n",
    "max_pos_error_meters = max_pos_error * 1000\n",
    "print(\"Maximum position error (Meters):\", max_pos_error_meters)\n",
    "print(\"Estimated condition number (error magnification factor):\", max_error_magnification)\n",
    "\n"
   ]
  }
 ],
 "metadata": {
  "kernelspec": {
   "display_name": "Python 3 (ipykernel)",
   "language": "python",
   "name": "python3"
  },
  "language_info": {
   "codemirror_mode": {
    "name": "ipython",
    "version": 3
   },
   "file_extension": ".py",
   "mimetype": "text/x-python",
   "name": "python",
   "nbconvert_exporter": "python",
   "pygments_lexer": "ipython3",
   "version": "3.12.2"
  }
 },
 "nbformat": 4,
 "nbformat_minor": 5
}
